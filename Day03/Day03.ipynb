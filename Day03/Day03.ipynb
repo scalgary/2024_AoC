{
 "cells": [
  {
   "cell_type": "markdown",
   "metadata": {},
   "source": [
    "Read string"
   ]
  },
  {
   "cell_type": "code",
   "execution_count": 28,
   "metadata": {},
   "outputs": [
    {
     "name": "stdout",
     "output_type": "stream",
     "text": [
      "xmul(2,4)%&mul[3,7]!@^do_not_mul(5,5)+mul(32,64]then(mul(11,8)mul(8,5))\n"
     ]
    }
   ],
   "source": [
    "# Open the file in read mode\n",
    "file_path =\"test03.txt\"\n",
    "#file_path = \"input03.txt\"\n",
    "\n",
    "\n",
    "\n",
    "# Lecture du fichier texte\n",
    "with open(file_path, \"r\") as file:\n",
    "    # Lire tout le contenu du fichier en une seule chaîne\n",
    "    content = file.read()\n",
    "\n",
    "# Supprimer les retours à la ligne pour obtenir une seule chaîne\n",
    "single_string = content.replace(\"\\n\", \" \")\n",
    "\n",
    "# Affichage du résultat\n",
    "print(single_string)"
   ]
  },
  {
   "cell_type": "markdown",
   "metadata": {},
   "source": [
    "#repere mul(digit,digit)"
   ]
  },
  {
   "cell_type": "code",
   "execution_count": 26,
   "metadata": {},
   "outputs": [
    {
     "name": "stdout",
     "output_type": "stream",
     "text": [
      "['mul(339,896)', 'mul(799,303)', 'mul(188,763)', 'mul(924,355)', 'mul(492,757)', 'mul(582,171)', 'mul(840,899)', 'mul(711,51)', 'mul(131,623)', 'mul(966,541)', 'mul(318,527)', 'mul(530,886)', 'mul(937,475)', 'mul(201,723)', 'mul(673,729)', 'mul(673,694)', 'mul(295,161)', 'mul(364,904)', 'mul(329,432)', 'mul(499,11)', 'mul(533,879)', 'mul(65,49)', 'mul(979,846)', 'mul(775,866)', 'mul(835,890)', 'mul(735,871)', 'mul(952,728)', 'mul(633,505)', 'mul(176,469)', 'mul(117,634)', 'mul(234,514)', 'mul(291,507)', 'mul(668,282)', 'mul(195,300)', 'mul(801,834)', 'mul(265,493)', 'mul(590,771)', 'mul(716,564)', 'mul(359,60)', 'mul(197,425)', 'mul(752,102)', 'mul(271,88)', 'mul(933,166)', 'mul(343,220)', 'mul(309,990)', 'mul(782,953)', 'mul(779,796)', 'mul(616,478)', 'mul(463,630)', 'mul(280,83)', 'mul(358,910)', 'mul(242,569)', 'mul(553,455)', 'mul(567,429)', 'mul(257,307)', 'mul(284,63)', 'mul(437,226)', 'mul(57,491)', 'mul(321,301)', 'mul(619,356)', 'mul(78,106)', 'mul(609,442)', 'mul(996,918)', 'mul(217,653)', 'mul(998,408)', 'mul(305,980)', 'mul(721,412)', 'mul(143,735)', 'mul(670,301)', 'mul(120,681)', 'mul(805,510)', 'mul(104,633)', 'mul(555,387)', 'mul(850,237)', 'mul(298,559)', 'mul(556,540)', 'mul(976,624)', 'mul(790,645)', 'mul(153,86)', 'mul(980,956)', 'mul(151,20)', 'mul(827,322)', 'mul(933,2)', 'mul(845,519)', 'mul(518,563)', 'mul(500,591)', 'mul(243,908)', 'mul(574,691)', 'mul(534,43)', 'mul(496,669)', 'mul(28,334)', 'mul(621,688)', 'mul(627,561)', 'mul(206,37)', 'mul(540,77)', 'mul(923,453)', 'mul(733,228)', 'mul(104,17)', 'mul(500,830)', 'mul(301,211)', 'mul(21,358)', 'mul(285,542)', 'mul(361,19)', 'mul(362,324)', 'mul(352,273)', 'mul(742,91)', 'mul(624,723)', 'mul(14,149)', 'mul(547,492)', 'mul(972,531)', 'mul(602,51)', 'mul(862,742)', 'mul(432,72)', 'mul(384,302)', 'mul(649,348)', 'mul(184,596)', 'mul(719,53)', 'mul(634,179)', 'mul(849,756)', 'mul(530,108)', 'mul(333,615)', 'mul(314,366)', 'mul(222,364)', 'mul(449,95)', 'mul(831,201)', 'mul(408,650)', 'mul(478,641)', 'mul(836,460)', 'mul(339,868)', 'mul(91,296)', 'mul(6,37)', 'mul(69,574)', 'mul(644,184)', 'mul(67,86)', 'mul(526,440)', 'mul(81,534)', 'mul(64,25)', 'mul(157,667)', 'mul(356,285)', 'mul(165,944)', 'mul(980,979)', 'mul(109,665)', 'mul(887,673)', 'mul(906,700)', 'mul(935,960)', 'mul(533,431)', 'mul(63,509)', 'mul(164,971)', 'mul(301,62)', 'mul(722,492)', 'mul(262,457)', 'mul(902,705)', 'mul(640,550)', 'mul(998,104)', 'mul(37,27)', 'mul(160,45)', 'mul(281,768)', 'mul(270,620)', 'mul(481,293)', 'mul(264,360)', 'mul(748,940)', 'mul(182,631)', 'mul(83,366)', 'mul(878,366)', 'mul(77,997)', 'mul(827,204)', 'mul(919,654)', 'mul(678,952)', 'mul(344,894)', 'mul(408,29)', 'mul(144,162)', 'mul(803,649)', 'mul(170,978)', 'mul(263,974)', 'mul(155,265)', 'mul(571,825)', 'mul(507,171)', 'mul(437,680)', 'mul(332,921)', 'mul(218,74)', 'mul(470,570)', 'mul(931,767)', 'mul(486,567)', 'mul(901,942)', 'mul(331,184)', 'mul(339,48)', 'mul(818,891)', 'mul(828,226)', 'mul(798,324)', 'mul(145,827)', 'mul(256,218)', 'mul(125,982)', 'mul(274,98)', 'mul(748,186)', 'mul(556,171)', 'mul(337,760)', 'mul(350,889)', 'mul(859,480)', 'mul(808,237)', 'mul(218,295)', 'mul(583,684)', 'mul(628,340)', 'mul(639,874)', 'mul(607,392)', 'mul(263,676)', 'mul(166,500)', 'mul(711,477)', 'mul(939,832)', 'mul(457,751)', 'mul(219,492)', 'mul(892,437)', 'mul(744,51)', 'mul(450,596)', 'mul(218,957)', 'mul(329,937)', 'mul(693,766)', 'mul(888,144)', 'mul(517,97)', 'mul(394,320)', 'mul(761,855)', 'mul(22,362)', 'mul(730,655)', 'mul(692,165)', 'mul(481,375)', 'mul(954,570)', 'mul(338,656)', 'mul(616,31)', 'mul(113,2)', 'mul(295,905)', 'mul(410,181)', 'mul(599,200)', 'mul(486,481)', 'mul(237,686)', 'mul(321,434)', 'mul(328,792)', 'mul(82,296)', 'mul(859,169)', 'mul(465,709)', 'mul(208,775)', 'mul(379,29)', 'mul(826,43)', 'mul(411,966)', 'mul(24,557)', 'mul(391,794)', 'mul(592,819)', 'mul(210,928)', 'mul(29,613)', 'mul(56,646)', 'mul(425,457)', 'mul(896,578)', 'mul(895,482)', 'mul(432,547)', 'mul(483,785)', 'mul(422,876)', 'mul(709,114)', 'mul(263,276)', 'mul(113,694)', 'mul(228,70)', 'mul(707,104)', 'mul(423,229)', 'mul(194,895)', 'mul(836,144)', 'mul(786,723)', 'mul(734,761)', 'mul(520,746)', 'mul(185,986)', 'mul(566,786)', 'mul(188,610)', 'mul(784,533)', 'mul(841,352)', 'mul(728,38)', 'mul(671,105)', 'mul(403,996)', 'mul(268,651)', 'mul(660,864)', 'mul(769,53)', 'mul(83,519)', 'mul(305,335)', 'mul(395,86)', 'mul(349,362)', 'mul(414,725)', 'mul(180,197)', 'mul(370,295)', 'mul(121,586)', 'mul(944,189)', 'mul(222,28)', 'mul(752,302)', 'mul(974,242)', 'mul(449,827)', 'mul(289,78)', 'mul(337,811)', 'mul(865,636)', 'mul(524,198)', 'mul(181,23)', 'mul(569,165)', 'mul(15,411)', 'mul(124,709)', 'mul(99,652)', 'mul(53,14)', 'mul(380,904)', 'mul(491,229)', 'mul(245,344)', 'mul(297,527)', 'mul(50,277)', 'mul(19,630)', 'mul(404,379)', 'mul(72,663)', 'mul(942,445)', 'mul(83,601)', 'mul(777,574)', 'mul(680,66)', 'mul(361,449)', 'mul(869,603)', 'mul(385,816)', 'mul(189,109)', 'mul(451,205)', 'mul(949,138)', 'mul(356,99)', 'mul(95,448)', 'mul(167,343)', 'mul(919,379)', 'mul(573,375)', 'mul(871,907)', 'mul(718,918)', 'mul(585,886)', 'mul(684,834)', 'mul(443,590)', 'mul(815,879)', 'mul(444,941)', 'mul(180,328)', 'mul(911,368)', 'mul(865,234)', 'mul(397,906)', 'mul(806,349)', 'mul(827,131)', 'mul(44,818)', 'mul(295,441)', 'mul(756,90)', 'mul(67,416)', 'mul(230,994)', 'mul(66,226)', 'mul(325,467)', 'mul(6,370)', 'mul(619,21)', 'mul(713,804)', 'mul(737,356)', 'mul(139,324)', 'mul(502,936)', 'mul(699,668)', 'mul(755,644)', 'mul(730,880)', 'mul(952,543)', 'mul(123,880)', 'mul(425,371)', 'mul(425,817)', 'mul(668,3)', 'mul(785,430)', 'mul(607,686)', 'mul(979,796)', 'mul(244,801)', 'mul(311,17)', 'mul(486,732)', 'mul(480,165)', 'mul(662,582)', 'mul(894,455)', 'mul(555,437)', 'mul(692,73)', 'mul(465,602)', 'mul(471,204)', 'mul(945,735)', 'mul(615,73)', 'mul(431,683)', 'mul(254,617)', 'mul(208,995)', 'mul(22,79)', 'mul(583,536)', 'mul(281,314)', 'mul(990,358)', 'mul(603,599)', 'mul(285,652)', 'mul(585,541)', 'mul(710,522)', 'mul(801,485)', 'mul(393,477)', 'mul(13,599)', 'mul(808,562)', 'mul(407,85)', 'mul(67,663)', 'mul(629,684)', 'mul(79,607)', 'mul(697,649)', 'mul(448,917)', 'mul(934,570)', 'mul(857,473)', 'mul(585,495)', 'mul(45,904)', 'mul(747,283)', 'mul(405,574)', 'mul(198,934)', 'mul(299,635)', 'mul(629,260)', 'mul(360,191)', 'mul(409,799)', 'mul(902,917)', 'mul(548,522)', 'mul(104,734)', 'mul(760,886)', 'mul(150,972)', 'mul(276,427)', 'mul(534,660)', 'mul(406,3)', 'mul(990,129)', 'mul(532,895)', 'mul(869,39)', 'mul(863,264)', 'mul(756,795)', 'mul(278,155)', 'mul(189,750)', 'mul(549,580)', 'mul(28,530)', 'mul(33,157)', 'mul(841,40)', 'mul(898,936)', 'mul(891,523)', 'mul(312,16)', 'mul(967,420)', 'mul(581,636)', 'mul(673,139)', 'mul(578,980)', 'mul(229,41)', 'mul(447,836)', 'mul(672,963)', 'mul(287,244)', 'mul(448,425)', 'mul(871,92)', 'mul(42,503)', 'mul(75,107)', 'mul(315,687)', 'mul(110,111)', 'mul(731,760)', 'mul(887,468)', 'mul(765,973)', 'mul(810,344)', 'mul(768,468)', 'mul(576,358)', 'mul(606,191)', 'mul(15,34)', 'mul(739,223)', 'mul(929,311)', 'mul(949,785)', 'mul(900,428)', 'mul(874,363)', 'mul(892,45)', 'mul(387,178)', 'mul(383,479)', 'mul(845,224)', 'mul(60,887)', 'mul(773,136)', 'mul(436,490)', 'mul(283,346)', 'mul(77,681)', 'mul(556,520)', 'mul(418,701)', 'mul(871,886)', 'mul(409,599)', 'mul(790,739)', 'mul(728,703)', 'mul(108,547)', 'mul(96,190)', 'mul(632,699)', 'mul(917,127)', 'mul(763,236)', 'mul(270,488)', 'mul(922,831)', 'mul(823,845)', 'mul(854,982)', 'mul(899,363)', 'mul(201,507)', 'mul(231,610)', 'mul(334,751)', 'mul(811,647)', 'mul(116,805)', 'mul(691,631)', 'mul(336,461)', 'mul(549,430)', 'mul(339,808)', 'mul(264,497)', 'mul(965,916)', 'mul(776,506)', 'mul(385,184)', 'mul(691,451)', 'mul(303,437)', 'mul(524,315)', 'mul(902,182)', 'mul(48,755)', 'mul(629,650)', 'mul(822,985)', 'mul(102,630)', 'mul(166,527)', 'mul(245,921)', 'mul(795,941)', 'mul(414,585)', 'mul(293,208)', 'mul(781,159)', 'mul(409,682)', 'mul(565,948)', 'mul(903,713)', 'mul(99,672)', 'mul(300,836)', 'mul(129,851)', 'mul(545,309)', 'mul(466,194)', 'mul(844,768)', 'mul(134,385)', 'mul(176,788)', 'mul(111,769)', 'mul(796,855)', 'mul(800,759)', 'mul(20,432)', 'mul(691,133)', 'mul(425,328)', 'mul(702,532)', 'mul(45,856)', 'mul(220,616)', 'mul(931,398)', 'mul(471,783)', 'mul(276,590)', 'mul(675,852)', 'mul(128,569)', 'mul(868,808)', 'mul(71,753)', 'mul(250,975)', 'mul(785,175)', 'mul(131,573)', 'mul(833,970)', 'mul(496,285)', 'mul(296,374)', 'mul(718,993)', 'mul(639,708)', 'mul(187,633)', 'mul(872,562)', 'mul(82,739)', 'mul(830,429)', 'mul(920,165)', 'mul(979,57)', 'mul(845,384)', 'mul(795,514)', 'mul(415,325)', 'mul(876,97)', 'mul(204,271)', 'mul(983,642)', 'mul(390,30)', 'mul(208,444)', 'mul(854,207)', 'mul(120,222)', 'mul(885,372)', 'mul(476,77)', 'mul(305,758)', 'mul(999,999)', 'mul(28,578)', 'mul(2,348)', 'mul(148,153)', 'mul(375,986)', 'mul(254,345)', 'mul(966,420)', 'mul(688,942)', 'mul(363,573)', 'mul(260,171)', 'mul(116,728)', 'mul(51,309)', 'mul(400,128)', 'mul(319,269)', 'mul(431,542)', 'mul(794,709)', 'mul(12,579)', 'mul(361,146)', 'mul(465,576)', 'mul(101,476)', 'mul(13,38)', 'mul(30,350)', 'mul(303,869)', 'mul(938,614)', 'mul(439,873)', 'mul(510,226)', 'mul(353,498)', 'mul(709,649)', 'mul(144,790)', 'mul(653,286)', 'mul(373,21)', 'mul(601,965)', 'mul(970,654)', 'mul(19,700)', 'mul(850,749)', 'mul(561,720)', 'mul(439,509)', 'mul(390,146)', 'mul(658,554)', 'mul(769,268)', 'mul(570,233)', 'mul(183,547)', 'mul(490,847)', 'mul(23,467)', 'mul(305,784)', 'mul(237,433)', 'mul(842,162)', 'mul(629,950)', 'mul(891,30)', 'mul(808,962)', 'mul(90,782)', 'mul(944,224)', 'mul(442,115)', 'mul(162,476)', 'mul(689,801)', 'mul(296,108)', 'mul(592,463)', 'mul(733,447)', 'mul(496,360)', 'mul(615,52)', 'mul(865,200)', 'mul(275,101)', 'mul(693,721)', 'mul(807,92)', 'mul(544,513)', 'mul(164,401)', 'mul(815,703)', 'mul(20,330)', 'mul(78,579)', 'mul(141,703)', 'mul(832,264)', 'mul(437,310)', 'mul(45,389)', 'mul(672,921)', 'mul(9,140)', 'mul(19,667)', 'mul(256,632)', 'mul(648,453)', 'mul(453,188)', 'mul(96,408)', 'mul(291,868)', 'mul(899,304)', 'mul(659,114)', 'mul(686,605)', 'mul(127,293)', 'mul(608,869)', 'mul(752,203)', 'mul(307,633)', 'mul(265,251)', 'mul(188,777)', 'mul(94,809)', 'mul(621,327)', 'mul(178,771)', 'mul(896,407)', 'mul(280,745)', 'mul(262,847)', 'mul(792,379)', 'mul(199,174)', 'mul(639,740)']\n"
     ]
    }
   ],
   "source": [
    "import re\n",
    "\n",
    "# Exemple de chaîne\n",
    "text = \"xmul(2,4)%&mul[3,7]!@^do_not_mul(5,5)+mul(32,64]then(mul(11,8)mul(8,5))\"\n",
    "\n",
    "# Expression régulière pour capturer les motifs souhaités\n",
    "pattern = r\"mul\\(\\d+,\\d+\\)\"\n",
    "\n",
    "# Recherche des correspondances\n",
    "matches = re.findall(pattern, single_string)\n",
    "\n",
    "# Affichage des résultats\n",
    "print(matches)\n",
    "col1=[]\n",
    "col2=[]\n",
    "for match in matches:\n",
    "    a,b =re.findall(r\"\\d+,\\d+\", match)[0].split(\",\")\n",
    "    col1.append(int(a))\n",
    "    col2.append(int(b))\n",
    "\n"
   ]
  },
  {
   "cell_type": "code",
   "execution_count": 27,
   "metadata": {},
   "outputs": [
    {
     "data": {
      "text/plain": [
       "159833790"
      ]
     },
     "execution_count": 27,
     "metadata": {},
     "output_type": "execute_result"
    }
   ],
   "source": [
    "sum([ a*b for a,b in zip(col1,col2)])\n"
   ]
  },
  {
   "cell_type": "code",
   "execution_count": 34,
   "metadata": {},
   "outputs": [
    {
     "ename": "error",
     "evalue": "multiple repeat at position 12",
     "output_type": "error",
     "traceback": [
      "\u001b[0;31m---------------------------------------------------------------------------\u001b[0m",
      "\u001b[0;31merror\u001b[0m                                     Traceback (most recent call last)",
      "Cell \u001b[0;32mIn[34], line 18\u001b[0m\n\u001b[1;32m     15\u001b[0m pattern \u001b[38;5;241m=\u001b[39m \u001b[38;5;124mr\u001b[39m\u001b[38;5;124m\"\u001b[39m\u001b[38;5;124m(do|do_not)*+(brand\u001b[39m\u001b[38;5;124m\\\u001b[39m\u001b[38;5;124m(\u001b[39m\u001b[38;5;124m\\\u001b[39m\u001b[38;5;124md+,\u001b[39m\u001b[38;5;124m\\\u001b[39m\u001b[38;5;124md+\u001b[39m\u001b[38;5;124m\\\u001b[39m\u001b[38;5;124m))\u001b[39m\u001b[38;5;124m\"\u001b[39m\n\u001b[1;32m     17\u001b[0m \u001b[38;5;66;03m# Trouver toutes les correspondances\u001b[39;00m\n\u001b[0;32m---> 18\u001b[0m matches \u001b[38;5;241m=\u001b[39m \u001b[43mre\u001b[49m\u001b[38;5;241;43m.\u001b[39;49m\u001b[43mfindall\u001b[49m\u001b[43m(\u001b[49m\u001b[43mpattern\u001b[49m\u001b[43m,\u001b[49m\u001b[43m \u001b[49m\u001b[43mtext\u001b[49m\u001b[43m)\u001b[49m\n\u001b[1;32m     20\u001b[0m \u001b[38;5;66;03m# Séparer les résultats en deux listes\u001b[39;00m\n\u001b[1;32m     21\u001b[0m do_brands \u001b[38;5;241m=\u001b[39m [brand \u001b[38;5;28;01mfor\u001b[39;00m keyword, brand \u001b[38;5;129;01min\u001b[39;00m matches \u001b[38;5;28;01mif\u001b[39;00m keyword \u001b[38;5;241m==\u001b[39m \u001b[38;5;124m\"\u001b[39m\u001b[38;5;124mdo\u001b[39m\u001b[38;5;124m\"\u001b[39m]\n",
      "File \u001b[0;32m/Library/Developer/CommandLineTools/Library/Frameworks/Python3.framework/Versions/3.9/lib/python3.9/re.py:241\u001b[0m, in \u001b[0;36mfindall\u001b[0;34m(pattern, string, flags)\u001b[0m\n\u001b[1;32m    233\u001b[0m \u001b[38;5;28;01mdef\u001b[39;00m \u001b[38;5;21mfindall\u001b[39m(pattern, string, flags\u001b[38;5;241m=\u001b[39m\u001b[38;5;241m0\u001b[39m):\n\u001b[1;32m    234\u001b[0m \u001b[38;5;250m    \u001b[39m\u001b[38;5;124;03m\"\"\"Return a list of all non-overlapping matches in the string.\u001b[39;00m\n\u001b[1;32m    235\u001b[0m \n\u001b[1;32m    236\u001b[0m \u001b[38;5;124;03m    If one or more capturing groups are present in the pattern, return\u001b[39;00m\n\u001b[0;32m   (...)\u001b[0m\n\u001b[1;32m    239\u001b[0m \n\u001b[1;32m    240\u001b[0m \u001b[38;5;124;03m    Empty matches are included in the result.\"\"\"\u001b[39;00m\n\u001b[0;32m--> 241\u001b[0m     \u001b[38;5;28;01mreturn\u001b[39;00m \u001b[43m_compile\u001b[49m\u001b[43m(\u001b[49m\u001b[43mpattern\u001b[49m\u001b[43m,\u001b[49m\u001b[43m \u001b[49m\u001b[43mflags\u001b[49m\u001b[43m)\u001b[49m\u001b[38;5;241m.\u001b[39mfindall(string)\n",
      "File \u001b[0;32m/Library/Developer/CommandLineTools/Library/Frameworks/Python3.framework/Versions/3.9/lib/python3.9/re.py:304\u001b[0m, in \u001b[0;36m_compile\u001b[0;34m(pattern, flags)\u001b[0m\n\u001b[1;32m    302\u001b[0m \u001b[38;5;28;01mif\u001b[39;00m \u001b[38;5;129;01mnot\u001b[39;00m sre_compile\u001b[38;5;241m.\u001b[39misstring(pattern):\n\u001b[1;32m    303\u001b[0m     \u001b[38;5;28;01mraise\u001b[39;00m \u001b[38;5;167;01mTypeError\u001b[39;00m(\u001b[38;5;124m\"\u001b[39m\u001b[38;5;124mfirst argument must be string or compiled pattern\u001b[39m\u001b[38;5;124m\"\u001b[39m)\n\u001b[0;32m--> 304\u001b[0m p \u001b[38;5;241m=\u001b[39m \u001b[43msre_compile\u001b[49m\u001b[38;5;241;43m.\u001b[39;49m\u001b[43mcompile\u001b[49m\u001b[43m(\u001b[49m\u001b[43mpattern\u001b[49m\u001b[43m,\u001b[49m\u001b[43m \u001b[49m\u001b[43mflags\u001b[49m\u001b[43m)\u001b[49m\n\u001b[1;32m    305\u001b[0m \u001b[38;5;28;01mif\u001b[39;00m \u001b[38;5;129;01mnot\u001b[39;00m (flags \u001b[38;5;241m&\u001b[39m DEBUG):\n\u001b[1;32m    306\u001b[0m     \u001b[38;5;28;01mif\u001b[39;00m \u001b[38;5;28mlen\u001b[39m(_cache) \u001b[38;5;241m>\u001b[39m\u001b[38;5;241m=\u001b[39m _MAXCACHE:\n\u001b[1;32m    307\u001b[0m         \u001b[38;5;66;03m# Drop the oldest item\u001b[39;00m\n",
      "File \u001b[0;32m/Library/Developer/CommandLineTools/Library/Frameworks/Python3.framework/Versions/3.9/lib/python3.9/sre_compile.py:764\u001b[0m, in \u001b[0;36mcompile\u001b[0;34m(p, flags)\u001b[0m\n\u001b[1;32m    762\u001b[0m \u001b[38;5;28;01mif\u001b[39;00m isstring(p):\n\u001b[1;32m    763\u001b[0m     pattern \u001b[38;5;241m=\u001b[39m p\n\u001b[0;32m--> 764\u001b[0m     p \u001b[38;5;241m=\u001b[39m \u001b[43msre_parse\u001b[49m\u001b[38;5;241;43m.\u001b[39;49m\u001b[43mparse\u001b[49m\u001b[43m(\u001b[49m\u001b[43mp\u001b[49m\u001b[43m,\u001b[49m\u001b[43m \u001b[49m\u001b[43mflags\u001b[49m\u001b[43m)\u001b[49m\n\u001b[1;32m    765\u001b[0m \u001b[38;5;28;01melse\u001b[39;00m:\n\u001b[1;32m    766\u001b[0m     pattern \u001b[38;5;241m=\u001b[39m \u001b[38;5;28;01mNone\u001b[39;00m\n",
      "File \u001b[0;32m/Library/Developer/CommandLineTools/Library/Frameworks/Python3.framework/Versions/3.9/lib/python3.9/sre_parse.py:948\u001b[0m, in \u001b[0;36mparse\u001b[0;34m(str, flags, state)\u001b[0m\n\u001b[1;32m    945\u001b[0m state\u001b[38;5;241m.\u001b[39mstr \u001b[38;5;241m=\u001b[39m \u001b[38;5;28mstr\u001b[39m\n\u001b[1;32m    947\u001b[0m \u001b[38;5;28;01mtry\u001b[39;00m:\n\u001b[0;32m--> 948\u001b[0m     p \u001b[38;5;241m=\u001b[39m \u001b[43m_parse_sub\u001b[49m\u001b[43m(\u001b[49m\u001b[43msource\u001b[49m\u001b[43m,\u001b[49m\u001b[43m \u001b[49m\u001b[43mstate\u001b[49m\u001b[43m,\u001b[49m\u001b[43m \u001b[49m\u001b[43mflags\u001b[49m\u001b[43m \u001b[49m\u001b[38;5;241;43m&\u001b[39;49m\u001b[43m \u001b[49m\u001b[43mSRE_FLAG_VERBOSE\u001b[49m\u001b[43m,\u001b[49m\u001b[43m \u001b[49m\u001b[38;5;241;43m0\u001b[39;49m\u001b[43m)\u001b[49m\n\u001b[1;32m    949\u001b[0m \u001b[38;5;28;01mexcept\u001b[39;00m Verbose:\n\u001b[1;32m    950\u001b[0m     \u001b[38;5;66;03m# the VERBOSE flag was switched on inside the pattern.  to be\u001b[39;00m\n\u001b[1;32m    951\u001b[0m     \u001b[38;5;66;03m# on the safe side, we'll parse the whole thing again...\u001b[39;00m\n\u001b[1;32m    952\u001b[0m     state \u001b[38;5;241m=\u001b[39m State()\n",
      "File \u001b[0;32m/Library/Developer/CommandLineTools/Library/Frameworks/Python3.framework/Versions/3.9/lib/python3.9/sre_parse.py:443\u001b[0m, in \u001b[0;36m_parse_sub\u001b[0;34m(source, state, verbose, nested)\u001b[0m\n\u001b[1;32m    441\u001b[0m start \u001b[38;5;241m=\u001b[39m source\u001b[38;5;241m.\u001b[39mtell()\n\u001b[1;32m    442\u001b[0m \u001b[38;5;28;01mwhile\u001b[39;00m \u001b[38;5;28;01mTrue\u001b[39;00m:\n\u001b[0;32m--> 443\u001b[0m     itemsappend(\u001b[43m_parse\u001b[49m\u001b[43m(\u001b[49m\u001b[43msource\u001b[49m\u001b[43m,\u001b[49m\u001b[43m \u001b[49m\u001b[43mstate\u001b[49m\u001b[43m,\u001b[49m\u001b[43m \u001b[49m\u001b[43mverbose\u001b[49m\u001b[43m,\u001b[49m\u001b[43m \u001b[49m\u001b[43mnested\u001b[49m\u001b[43m \u001b[49m\u001b[38;5;241;43m+\u001b[39;49m\u001b[43m \u001b[49m\u001b[38;5;241;43m1\u001b[39;49m\u001b[43m,\u001b[49m\n\u001b[1;32m    444\u001b[0m \u001b[43m                       \u001b[49m\u001b[38;5;129;43;01mnot\u001b[39;49;00m\u001b[43m \u001b[49m\u001b[43mnested\u001b[49m\u001b[43m \u001b[49m\u001b[38;5;129;43;01mand\u001b[39;49;00m\u001b[43m \u001b[49m\u001b[38;5;129;43;01mnot\u001b[39;49;00m\u001b[43m \u001b[49m\u001b[43mitems\u001b[49m\u001b[43m)\u001b[49m)\n\u001b[1;32m    445\u001b[0m     \u001b[38;5;28;01mif\u001b[39;00m \u001b[38;5;129;01mnot\u001b[39;00m sourcematch(\u001b[38;5;124m\"\u001b[39m\u001b[38;5;124m|\u001b[39m\u001b[38;5;124m\"\u001b[39m):\n\u001b[1;32m    446\u001b[0m         \u001b[38;5;28;01mbreak\u001b[39;00m\n",
      "File \u001b[0;32m/Library/Developer/CommandLineTools/Library/Frameworks/Python3.framework/Versions/3.9/lib/python3.9/sre_parse.py:671\u001b[0m, in \u001b[0;36m_parse\u001b[0;34m(source, state, verbose, nested, first)\u001b[0m\n\u001b[1;32m    668\u001b[0m     \u001b[38;5;28;01mraise\u001b[39;00m source\u001b[38;5;241m.\u001b[39merror(\u001b[38;5;124m\"\u001b[39m\u001b[38;5;124mnothing to repeat\u001b[39m\u001b[38;5;124m\"\u001b[39m,\n\u001b[1;32m    669\u001b[0m                        source\u001b[38;5;241m.\u001b[39mtell() \u001b[38;5;241m-\u001b[39m here \u001b[38;5;241m+\u001b[39m \u001b[38;5;28mlen\u001b[39m(this))\n\u001b[1;32m    670\u001b[0m \u001b[38;5;28;01mif\u001b[39;00m item[\u001b[38;5;241m0\u001b[39m][\u001b[38;5;241m0\u001b[39m] \u001b[38;5;129;01min\u001b[39;00m _REPEATCODES:\n\u001b[0;32m--> 671\u001b[0m     \u001b[38;5;28;01mraise\u001b[39;00m source\u001b[38;5;241m.\u001b[39merror(\u001b[38;5;124m\"\u001b[39m\u001b[38;5;124mmultiple repeat\u001b[39m\u001b[38;5;124m\"\u001b[39m,\n\u001b[1;32m    672\u001b[0m                        source\u001b[38;5;241m.\u001b[39mtell() \u001b[38;5;241m-\u001b[39m here \u001b[38;5;241m+\u001b[39m \u001b[38;5;28mlen\u001b[39m(this))\n\u001b[1;32m    673\u001b[0m \u001b[38;5;28;01mif\u001b[39;00m item[\u001b[38;5;241m0\u001b[39m][\u001b[38;5;241m0\u001b[39m] \u001b[38;5;129;01mis\u001b[39;00m SUBPATTERN:\n\u001b[1;32m    674\u001b[0m     group, add_flags, del_flags, p \u001b[38;5;241m=\u001b[39m item[\u001b[38;5;241m0\u001b[39m][\u001b[38;5;241m1\u001b[39m]\n",
      "\u001b[0;31merror\u001b[0m: multiple repeat at position 12"
     ]
    }
   ],
   "source": [
    "import re\n",
    "\n",
    "# Exemple de texte\n",
    "text = \"\"\"\n",
    "do brand(123,456)\n",
    "texte quelconque\n",
    "do_not brand(78,90)\n",
    "autre texte sans correspondance\n",
    "brand(1,2)\n",
    "do brand(555,666)\n",
    "do_not brand(777,888)\n",
    "\"\"\"\n",
    "\n",
    "# Motif regex pour capturer les motifs précédés de `do` ou `do_not`\n",
    "pattern = r\"(do()|do_not).*?(brand\\(\\d+,\\d+\\))\"\n",
    "\n",
    "# Trouver toutes les correspondances\n",
    "matches = re.findall(pattern, text)\n",
    "\n",
    "# Séparer les résultats en deux listes\n",
    "do_brands = [brand for keyword, brand in matches if keyword == \"do\"]\n",
    "do_not_brands = [brand for keyword, brand in matches if keyword == \"do_not\"]\n",
    "\n",
    "# Afficher les résultats\n",
    "print(\"Associés à 'do':\", do_brands)\n",
    "print(\"Associés à 'do_not':\", do_not_brands)"
   ]
  },
  {
   "cell_type": "code",
   "execution_count": 45,
   "metadata": {},
   "outputs": [
    {
     "ename": "error",
     "evalue": "unbalanced parenthesis at position 6",
     "output_type": "error",
     "traceback": [
      "\u001b[0;31m---------------------------------------------------------------------------\u001b[0m",
      "\u001b[0;31merror\u001b[0m                                     Traceback (most recent call last)",
      "Cell \u001b[0;32mIn[45], line 11\u001b[0m\n\u001b[1;32m      8\u001b[0m pattern \u001b[38;5;241m=\u001b[39m \u001b[38;5;124mr\u001b[39m\u001b[38;5;124m\"\u001b[39m\u001b[38;5;124m(do\u001b[39m\u001b[38;5;124m\\\u001b[39m\u001b[38;5;124m()).*?(mul\u001b[39m\u001b[38;5;124m\\\u001b[39m\u001b[38;5;124m(\u001b[39m\u001b[38;5;124m\\\u001b[39m\u001b[38;5;124md+,\u001b[39m\u001b[38;5;124m\\\u001b[39m\u001b[38;5;124md+\u001b[39m\u001b[38;5;124m\\\u001b[39m\u001b[38;5;124m))\u001b[39m\u001b[38;5;124m\"\u001b[39m\n\u001b[1;32m     10\u001b[0m \u001b[38;5;66;03m# Trouver toutes les correspondances\u001b[39;00m\n\u001b[0;32m---> 11\u001b[0m matches \u001b[38;5;241m=\u001b[39m \u001b[43mre\u001b[49m\u001b[38;5;241;43m.\u001b[39;49m\u001b[43mfindall\u001b[49m\u001b[43m(\u001b[49m\u001b[43mpattern\u001b[49m\u001b[43m,\u001b[49m\u001b[43m \u001b[49m\u001b[43mtext\u001b[49m\u001b[43m)\u001b[49m\n\u001b[1;32m     12\u001b[0m \u001b[38;5;28mprint\u001b[39m(matches)\n",
      "File \u001b[0;32m/Library/Developer/CommandLineTools/Library/Frameworks/Python3.framework/Versions/3.9/lib/python3.9/re.py:241\u001b[0m, in \u001b[0;36mfindall\u001b[0;34m(pattern, string, flags)\u001b[0m\n\u001b[1;32m    233\u001b[0m \u001b[38;5;28;01mdef\u001b[39;00m \u001b[38;5;21mfindall\u001b[39m(pattern, string, flags\u001b[38;5;241m=\u001b[39m\u001b[38;5;241m0\u001b[39m):\n\u001b[1;32m    234\u001b[0m \u001b[38;5;250m    \u001b[39m\u001b[38;5;124;03m\"\"\"Return a list of all non-overlapping matches in the string.\u001b[39;00m\n\u001b[1;32m    235\u001b[0m \n\u001b[1;32m    236\u001b[0m \u001b[38;5;124;03m    If one or more capturing groups are present in the pattern, return\u001b[39;00m\n\u001b[0;32m   (...)\u001b[0m\n\u001b[1;32m    239\u001b[0m \n\u001b[1;32m    240\u001b[0m \u001b[38;5;124;03m    Empty matches are included in the result.\"\"\"\u001b[39;00m\n\u001b[0;32m--> 241\u001b[0m     \u001b[38;5;28;01mreturn\u001b[39;00m \u001b[43m_compile\u001b[49m\u001b[43m(\u001b[49m\u001b[43mpattern\u001b[49m\u001b[43m,\u001b[49m\u001b[43m \u001b[49m\u001b[43mflags\u001b[49m\u001b[43m)\u001b[49m\u001b[38;5;241m.\u001b[39mfindall(string)\n",
      "File \u001b[0;32m/Library/Developer/CommandLineTools/Library/Frameworks/Python3.framework/Versions/3.9/lib/python3.9/re.py:304\u001b[0m, in \u001b[0;36m_compile\u001b[0;34m(pattern, flags)\u001b[0m\n\u001b[1;32m    302\u001b[0m \u001b[38;5;28;01mif\u001b[39;00m \u001b[38;5;129;01mnot\u001b[39;00m sre_compile\u001b[38;5;241m.\u001b[39misstring(pattern):\n\u001b[1;32m    303\u001b[0m     \u001b[38;5;28;01mraise\u001b[39;00m \u001b[38;5;167;01mTypeError\u001b[39;00m(\u001b[38;5;124m\"\u001b[39m\u001b[38;5;124mfirst argument must be string or compiled pattern\u001b[39m\u001b[38;5;124m\"\u001b[39m)\n\u001b[0;32m--> 304\u001b[0m p \u001b[38;5;241m=\u001b[39m \u001b[43msre_compile\u001b[49m\u001b[38;5;241;43m.\u001b[39;49m\u001b[43mcompile\u001b[49m\u001b[43m(\u001b[49m\u001b[43mpattern\u001b[49m\u001b[43m,\u001b[49m\u001b[43m \u001b[49m\u001b[43mflags\u001b[49m\u001b[43m)\u001b[49m\n\u001b[1;32m    305\u001b[0m \u001b[38;5;28;01mif\u001b[39;00m \u001b[38;5;129;01mnot\u001b[39;00m (flags \u001b[38;5;241m&\u001b[39m DEBUG):\n\u001b[1;32m    306\u001b[0m     \u001b[38;5;28;01mif\u001b[39;00m \u001b[38;5;28mlen\u001b[39m(_cache) \u001b[38;5;241m>\u001b[39m\u001b[38;5;241m=\u001b[39m _MAXCACHE:\n\u001b[1;32m    307\u001b[0m         \u001b[38;5;66;03m# Drop the oldest item\u001b[39;00m\n",
      "File \u001b[0;32m/Library/Developer/CommandLineTools/Library/Frameworks/Python3.framework/Versions/3.9/lib/python3.9/sre_compile.py:764\u001b[0m, in \u001b[0;36mcompile\u001b[0;34m(p, flags)\u001b[0m\n\u001b[1;32m    762\u001b[0m \u001b[38;5;28;01mif\u001b[39;00m isstring(p):\n\u001b[1;32m    763\u001b[0m     pattern \u001b[38;5;241m=\u001b[39m p\n\u001b[0;32m--> 764\u001b[0m     p \u001b[38;5;241m=\u001b[39m \u001b[43msre_parse\u001b[49m\u001b[38;5;241;43m.\u001b[39;49m\u001b[43mparse\u001b[49m\u001b[43m(\u001b[49m\u001b[43mp\u001b[49m\u001b[43m,\u001b[49m\u001b[43m \u001b[49m\u001b[43mflags\u001b[49m\u001b[43m)\u001b[49m\n\u001b[1;32m    765\u001b[0m \u001b[38;5;28;01melse\u001b[39;00m:\n\u001b[1;32m    766\u001b[0m     pattern \u001b[38;5;241m=\u001b[39m \u001b[38;5;28;01mNone\u001b[39;00m\n",
      "File \u001b[0;32m/Library/Developer/CommandLineTools/Library/Frameworks/Python3.framework/Versions/3.9/lib/python3.9/sre_parse.py:962\u001b[0m, in \u001b[0;36mparse\u001b[0;34m(str, flags, state)\u001b[0m\n\u001b[1;32m    960\u001b[0m \u001b[38;5;28;01mif\u001b[39;00m source\u001b[38;5;241m.\u001b[39mnext \u001b[38;5;129;01mis\u001b[39;00m \u001b[38;5;129;01mnot\u001b[39;00m \u001b[38;5;28;01mNone\u001b[39;00m:\n\u001b[1;32m    961\u001b[0m     \u001b[38;5;28;01massert\u001b[39;00m source\u001b[38;5;241m.\u001b[39mnext \u001b[38;5;241m==\u001b[39m \u001b[38;5;124m\"\u001b[39m\u001b[38;5;124m)\u001b[39m\u001b[38;5;124m\"\u001b[39m\n\u001b[0;32m--> 962\u001b[0m     \u001b[38;5;28;01mraise\u001b[39;00m source\u001b[38;5;241m.\u001b[39merror(\u001b[38;5;124m\"\u001b[39m\u001b[38;5;124munbalanced parenthesis\u001b[39m\u001b[38;5;124m\"\u001b[39m)\n\u001b[1;32m    964\u001b[0m \u001b[38;5;28;01mif\u001b[39;00m flags \u001b[38;5;241m&\u001b[39m SRE_FLAG_DEBUG:\n\u001b[1;32m    965\u001b[0m     p\u001b[38;5;241m.\u001b[39mdump()\n",
      "\u001b[0;31merror\u001b[0m: unbalanced parenthesis at position 6"
     ]
    }
   ],
   "source": [
    "import re\n",
    "\n",
    "# Exemple de texte\n",
    "text = \"xmul(2,4)&mul[3,7]!^don't()_mul(5,5)+mul(32,64](mul(11,8)undo()?mul(8,5))\"\n",
    "\n",
    "\n",
    "# Motif regex pour capturer les motifs précédés de `do` ou `do_not`\n",
    "pattern = r\"(do()).*?(mul\\(\\d+,\\d+\\))\"\n",
    "\n",
    "# Trouver toutes les correspondances\n",
    "matches = re.findall(pattern, text)\n",
    "print(matches)"
   ]
  },
  {
   "cell_type": "code",
   "execution_count": 38,
   "metadata": {},
   "outputs": [
    {
     "ename": "ValueError",
     "evalue": "too many values to unpack (expected 2)",
     "output_type": "error",
     "traceback": [
      "\u001b[0;31m---------------------------------------------------------------------------\u001b[0m",
      "\u001b[0;31mValueError\u001b[0m                                Traceback (most recent call last)",
      "Cell \u001b[0;32mIn[38], line 14\u001b[0m\n\u001b[1;32m     11\u001b[0m matches \u001b[38;5;241m=\u001b[39m re\u001b[38;5;241m.\u001b[39mfindall(pattern, text)\n\u001b[1;32m     13\u001b[0m \u001b[38;5;66;03m# Séparer les résultats en deux listes\u001b[39;00m\n\u001b[0;32m---> 14\u001b[0m do_brands \u001b[38;5;241m=\u001b[39m [brand \u001b[38;5;28;01mfor\u001b[39;00m keyword, brand \u001b[38;5;129;01min\u001b[39;00m matches \u001b[38;5;28;01mif\u001b[39;00m keyword \u001b[38;5;241m==\u001b[39m \u001b[38;5;124m\"\u001b[39m\u001b[38;5;124mdo()\u001b[39m\u001b[38;5;124m\"\u001b[39m]\n\u001b[1;32m     15\u001b[0m do_not_brands \u001b[38;5;241m=\u001b[39m [brand \u001b[38;5;28;01mfor\u001b[39;00m keyword, brand \u001b[38;5;129;01min\u001b[39;00m matches \u001b[38;5;28;01mif\u001b[39;00m keyword \u001b[38;5;241m==\u001b[39m \u001b[38;5;124m\"\u001b[39m\u001b[38;5;124mdon\u001b[39m\u001b[38;5;124m'\u001b[39m\u001b[38;5;124mt()\u001b[39m\u001b[38;5;124m\"\u001b[39m]\n\u001b[1;32m     17\u001b[0m \u001b[38;5;66;03m# Afficher les résultats\u001b[39;00m\n",
      "Cell \u001b[0;32mIn[38], line 14\u001b[0m, in \u001b[0;36m<listcomp>\u001b[0;34m(.0)\u001b[0m\n\u001b[1;32m     11\u001b[0m matches \u001b[38;5;241m=\u001b[39m re\u001b[38;5;241m.\u001b[39mfindall(pattern, text)\n\u001b[1;32m     13\u001b[0m \u001b[38;5;66;03m# Séparer les résultats en deux listes\u001b[39;00m\n\u001b[0;32m---> 14\u001b[0m do_brands \u001b[38;5;241m=\u001b[39m [brand \u001b[38;5;28;01mfor\u001b[39;00m keyword, brand \u001b[38;5;129;01min\u001b[39;00m matches \u001b[38;5;28;01mif\u001b[39;00m keyword \u001b[38;5;241m==\u001b[39m \u001b[38;5;124m\"\u001b[39m\u001b[38;5;124mdo()\u001b[39m\u001b[38;5;124m\"\u001b[39m]\n\u001b[1;32m     15\u001b[0m do_not_brands \u001b[38;5;241m=\u001b[39m [brand \u001b[38;5;28;01mfor\u001b[39;00m keyword, brand \u001b[38;5;129;01min\u001b[39;00m matches \u001b[38;5;28;01mif\u001b[39;00m keyword \u001b[38;5;241m==\u001b[39m \u001b[38;5;124m\"\u001b[39m\u001b[38;5;124mdon\u001b[39m\u001b[38;5;124m'\u001b[39m\u001b[38;5;124mt()\u001b[39m\u001b[38;5;124m\"\u001b[39m]\n\u001b[1;32m     17\u001b[0m \u001b[38;5;66;03m# Afficher les résultats\u001b[39;00m\n",
      "\u001b[0;31mValueError\u001b[0m: too many values to unpack (expected 2)"
     ]
    }
   ],
   "source": [
    "import re\n",
    "\n",
    "# Exemple de texte\n",
    "text = \"xmul(2,4)&mul[3,7]!^don't()_mul(5,5)+mul(32,64](mul(11,8)undo()?mul(8,5))\"\n",
    "\n",
    "\n",
    "# Motif regex pour capturer les motifs précédés de `do` ou `do_not`\n",
    "pattern = r\"(do()|don't()).*?(mul\\(\\d+,\\d+\\))\"\n",
    "\n",
    "# Trouver toutes les correspondances\n",
    "matches = re.findall(pattern, text)\n",
    "\n",
    "# Séparer les résultats en deux listes\n",
    "do_brands = [brand for keyword, brand in matches if keyword == \"do()\"]\n",
    "do_not_brands = [brand for keyword, brand in matches if keyword == \"don't()\"]\n",
    "\n",
    "# Afficher les résultats\n",
    "print(\"Associés à 'do':\", do_brands)\n",
    "print(\"Associés à 'do_not':\", do_not_brands)"
   ]
  }
 ],
 "metadata": {
  "kernelspec": {
   "display_name": "myenv",
   "language": "python",
   "name": "python3"
  },
  "language_info": {
   "codemirror_mode": {
    "name": "ipython",
    "version": 3
   },
   "file_extension": ".py",
   "mimetype": "text/x-python",
   "name": "python",
   "nbconvert_exporter": "python",
   "pygments_lexer": "ipython3",
   "version": "3.9.6"
  }
 },
 "nbformat": 4,
 "nbformat_minor": 2
}
